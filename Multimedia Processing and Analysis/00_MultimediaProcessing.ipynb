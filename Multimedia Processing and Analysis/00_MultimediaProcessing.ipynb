{
 "cells": [
  {
   "cell_type": "markdown",
   "metadata": {},
   "source": [
    "# Procesamiento y Análisis de Archivos Multimedia\n"
   ]
  },
  {
   "cell_type": "markdown",
   "metadata": {},
   "source": [
    "## Contenidos:\n",
    "* [Librerías](#Librerías)\n",
    "* [Descarga](#Descarga)\n",
    "* [Procesamiento](#Procesamiento)\n",
    "* [Análisis](#Análisis)\n",
    "* [Conclusiones](#Conclusiones)\n",
    "* [Referencias](#Referencias)\n",
    "\n",
    "### Librerías"
   ]
  },
  {
   "cell_type": "code",
   "execution_count": 1,
   "metadata": {},
   "outputs": [],
   "source": [
    "## librerias principales\n",
    "import yt_dlp # libreria para descargar videos de youtube\n",
    "import whisper # libreria para usar modelo IA de Speech to Text\n",
    "import openai # libreria para usar LLM de OpenAI\n",
    "\n",
    "\n",
    "## librerias secundarias\n",
    "import os # libreria para manejar archivos y directorios\n",
    "from typing import List # libreria para manejar listas\n",
    "import time  # libreria para manejar tiempo"
   ]
  },
  {
   "cell_type": "code",
   "execution_count": 2,
   "metadata": {},
   "outputs": [],
   "source": [
    "openai.api_key = \"sk-XXXXXXXXXXXXXXXX\""
   ]
  },
  {
   "cell_type": "markdown",
   "metadata": {},
   "source": [
    "Para este notebook contamos con un par de rutas pre-definidas, una para la carpeta de descargas, una carpeta para la transcripción y otra para la carpeta de procesamiento (resumen del archivo multimedia)."
   ]
  },
  {
   "cell_type": "markdown",
   "metadata": {},
   "source": [
    "<div class=\"alert alert-block alert-info\">\n",
    "<b>Multimedia Path:</b> \"data/videos/\".\n",
    "<br>\n",
    "<b>Transcriptions Path:</b> \"data/transcripts/\".\n",
    "<br>\n",
    "<b>Processing Path:</b> \"data/summaries/\".\n",
    "</div>"
   ]
  },
  {
   "cell_type": "markdown",
   "metadata": {},
   "source": [
    " Además, se importan las librerías necesarias para el procesamiento y análisis de archivos multimedia."
   ]
  },
  {
   "cell_type": "markdown",
   "metadata": {},
   "source": [
    "### Descarga\n",
    "Para descargar el contenido desde Youtube localmente tenemos varias opciones, en este momento optare por descargarlo usando la libreria de yt_dlp. Escogí esta libreria pues es una de las mas populares.\n",
    "Un requisito importante es tener instalado [ffmpeg](\"https://github.com/FFmpeg/FFmpeg\"), para poder descargar y procesar los archivos multimedia."
   ]
  },
  {
   "cell_type": "code",
   "execution_count": 3,
   "metadata": {},
   "outputs": [],
   "source": [
    "# funcion para descargar multimedia de redes sociales usando yt_dlp\n",
    "def download_audio(url: str) -> None:\n",
    "    \"\"\"Download audio from youtube video\n",
    "    Args:\n",
    "        url (str): url of the video\n",
    "    \"\"\"\n",
    "    path = \"data/videos/\" \n",
    "    ydl_opts = {\n",
    "        ## Para descargar solo audio\n",
    "        'format': 'bestaudio/best', # download best audio\n",
    "        'outtmpl': path + '%(title)s.mp3', \n",
    "\n",
    "        ## Para descargar video + audio\n",
    "        #'format': 'bestvideo[ext=mp4]+bestaudio[ext=m4a]/best[ext=mp4]/best', # download best video and audio\n",
    "        #'outtmpl': path + '%(title)s.%(ext)s', \n",
    "    }\n",
    "\n",
    "\n",
    "    with yt_dlp.YoutubeDL(ydl_opts) as ydl:\n",
    "        ydl.download([url])\n",
    "    file_name = ydl.prepare_filename(ydl.extract_info(url, download=False))\n",
    "    file_name = file_name.split(\"data\\\\videos\\\\\")[1]\n",
    "    print(\"Downloaded audio '{}' successfully\".format(file_name))\n",
    "\n",
    "    return file_name # regresa el nombre del archivo descargado"
   ]
  },
  {
   "cell_type": "code",
   "execution_count": 4,
   "metadata": {},
   "outputs": [
    {
     "name": "stdout",
     "output_type": "stream",
     "text": [
      "[youtube] Extracting URL: https://www.youtube.com/watch?v=QGdbs2S2YHk\n",
      "[youtube] QGdbs2S2YHk: Downloading webpage\n",
      "[youtube] QGdbs2S2YHk: Downloading ios player API JSON\n",
      "[youtube] QGdbs2S2YHk: Downloading android player API JSON\n"
     ]
    },
    {
     "name": "stderr",
     "output_type": "stream",
     "text": [
      "WARNING: [youtube] Skipping player responses from android clients (got player responses for video \"aQvGIIdgFDM\" instead of \"QGdbs2S2YHk\")\n"
     ]
    },
    {
     "name": "stdout",
     "output_type": "stream",
     "text": [
      "[youtube] QGdbs2S2YHk: Downloading player 0af6e327\n",
      "[youtube] QGdbs2S2YHk: Downloading m3u8 information\n",
      "[info] QGdbs2S2YHk: Downloading 1 format(s): 251\n",
      "[download] Destination: data\\videos\\How to Learn (a lot).mp3\n",
      "[download] 100% of   13.97MiB in 00:00:01 at 8.34MiB/s     \n",
      "[youtube] Extracting URL: https://www.youtube.com/watch?v=QGdbs2S2YHk\n",
      "[youtube] QGdbs2S2YHk: Downloading webpage\n",
      "[youtube] QGdbs2S2YHk: Downloading ios player API JSON\n",
      "[youtube] QGdbs2S2YHk: Downloading android player API JSON\n"
     ]
    },
    {
     "name": "stderr",
     "output_type": "stream",
     "text": [
      "WARNING: [youtube] Skipping player responses from android clients (got player responses for video \"aQvGIIdgFDM\" instead of \"QGdbs2S2YHk\")\n"
     ]
    },
    {
     "name": "stdout",
     "output_type": "stream",
     "text": [
      "[youtube] QGdbs2S2YHk: Downloading m3u8 information\n",
      "Downloaded audio 'How to Learn (a lot).mp3' successfully\n"
     ]
    }
   ],
   "source": [
    "# Usando la funcion para descargar el audio de un video de youtube\n",
    "\n",
    "url = \"https://www.youtube.com/watch?v=QGdbs2S2YHk\"\n",
    "\n",
    "archivo_multimedia = download_audio(url) # guardamos el nombre de nuestro archivo\n",
    "\n"
   ]
  },
  {
   "cell_type": "markdown",
   "metadata": {},
   "source": [
    "### Procesamiento\n",
    "Para el procesamiento crearemos un par de funciones que nos permitan extraer el audio del video y transcribirlo a texto. Para la transcripción usaremos el modelo open-source de OpenAI, llamado [Whisper](\"https://github.com/openai/whisper\")."
   ]
  },
  {
   "cell_type": "code",
   "execution_count": 5,
   "metadata": {},
   "outputs": [],
   "source": [
    "# funcion para cargar el modelo Whisper\n",
    "def load_whisper(model_name: str = \"medium\"):\n",
    "    \"\"\"Load whisper model\n",
    "    Args:\n",
    "        model_name (str): name of the model\n",
    "    \"\"\"\n",
    "    return whisper.load_model(model_name)\n",
    "\n",
    "# funcion para transcribir el audio a texto\n",
    "def audio2text(file, model, language: str=\"English\") -> str:\n",
    "    \"\"\"Transcribe audio to text using whisper model\"\"\"\n",
    "    return model.transcribe(file, fp16=False, language=language)\n",
    "\n",
    "# funcion para guardar la transcripcion en un archivo de texto\n",
    "def save_text(text: str, file: str) -> None:\n",
    "    \"\"\"Save text to file\"\"\"\n",
    "    try: \n",
    "        with open(file, \"w\") as f:\n",
    "            f.write(text)\n",
    "    except Exception as e:\n",
    "        print(\"Error saving text to file: {}\".format(e))\n",
    "\n",
    "# funcion para obtener el texto de un archivo de audio\n",
    "def get_text(file_name: str, model):\n",
    "    input_file = \"data/videos/\" + file_name\n",
    "    trans_path = \"data/transcripts/\" # path to transcripts\n",
    "    # now lets transcribe the audio\n",
    "    res = audio2text(input_file, model)\n",
    "    save_text(res['text'], trans_path + file_name.split(\".\")[0] + \"_transcript.txt\")\n",
    "    print(\"Transcript saved successfully\")"
   ]
  },
  {
   "cell_type": "code",
   "execution_count": 6,
   "metadata": {},
   "outputs": [
    {
     "name": "stdout",
     "output_type": "stream",
     "text": [
      "Transcript saved successfully\n"
     ]
    }
   ],
   "source": [
    "# primero cargamos el modelo Whisper\n",
    "model = load_whisper(\"small\") # dependiendo de la GPU donde se ejecute el codigo, se puede cambiar el tamaño del modelo\n",
    "\n",
    "# ahora transcribimos el audio a texto\n",
    "get_text(archivo_multimedia, model)"
   ]
  },
  {
   "cell_type": "markdown",
   "metadata": {},
   "source": [
    "### Análisis"
   ]
  },
  {
   "cell_type": "markdown",
   "metadata": {},
   "source": [
    "En esta ocasión, se realizará un análisis de sobre el texto transcribido. Para ello, se utilizará la el modelo de lenguaje GPT de OpenAI, al cual en esta ocasión sera consultado mediante el API.</br></br>\n",
    "Para ello creamos un prompt con el cual solicitamos al modelo que nos genere un resumen del texto transcribido."
   ]
  },
  {
   "cell_type": "code",
   "execution_count": 7,
   "metadata": {},
   "outputs": [],
   "source": [
    "# Recibir respuesta del modelo GPT de OpenAI\n",
    "\n",
    "## Configuracion del prompt para el modelo\n",
    "prompt = \"\"\"Podrias darme un resumen a detalle de la transcripcion del siguiente video titulado: '{}'\n",
    "            el video es de James Briggs, un reconocido ingeniero de IA que comparte contenido educativo en su canal de Youtube\"\"\".format(archivo_multimedia.split(\".\")[0])\n",
    "\n",
    "## Cargar la transcripcion del archivo de texto\n",
    "with open(\"data/transcripts/{}_transcript.txt\".format(archivo_multimedia.split(\".\")[0]), \"r\") as file:\n",
    "    transcript = file.read()\n",
    "\n",
    "## Establecer la configuracion del modelo\n",
    "delay_time = 0.01\n",
    "max_tokens = 2000\n",
    "start_time = time.time()\n",
    "\n",
    "## Seleccionamos el modelo GPT a usar\n",
    "GPT_Model = \"gpt-4-turbo\"\n",
    "\n",
    "def GPT_Summarize(prompt, transcript, max_tokens, GPT_Model):\n",
    "    # GPT Chabot API Request\n",
    "    response = openai.ChatCompletion.create(\n",
    "        model = GPT_Model,\n",
    "        messages = [\n",
    "            {'role': 'system', 'content': 'You are a helpful NLP assistant.'}, # especificamos el rol del modelo\n",
    "            {'role': 'user', 'content': prompt}, # especificamos el prompt\n",
    "            {'role': 'user', 'content': f'Transcript: {transcript}'}, # especificamos el contenido del prompt\n",
    "        ],\n",
    "        max_tokens = max_tokens,\n",
    "        temperature = 0.7,\n",
    "    )\n",
    "    print(\"Summary generated successfully\")\n",
    "    return response.choices[0].message['content']\n",
    "\n",
    "def Save_Summary(summary, file_name):\n",
    "    with open(\"data/summaries/{}_summary-GPT.txt\".format(file_name.split(\".\")[0]), \"w\") as file:\n",
    "        file.write(summary)\n",
    "    print(\"Summary saved successfully\")"
   ]
  },
  {
   "cell_type": "code",
   "execution_count": 8,
   "metadata": {},
   "outputs": [
    {
     "name": "stdout",
     "output_type": "stream",
     "text": [
      "Summary generated successfully\n",
      "Summary saved successfully\n"
     ]
    }
   ],
   "source": [
    "# Ejecutar el modelo GPT para el Resumen del video Multimedia\n",
    "summary = GPT_Summarize(prompt, transcript, max_tokens, GPT_Model)\n",
    "Save_Summary(summary, archivo_multimedia.split(\".\")[0]) # Guardar el resumen en un archivo de texto"
   ]
  },
  {
   "cell_type": "markdown",
   "metadata": {},
   "source": [
    "### Conclusiones"
   ]
  },
  {
   "cell_type": "markdown",
   "metadata": {},
   "source": [
    "Con este notebook se pretende mostrar un ejemplo de como se puede procesar y analizar archivos multimedia de manera automatizada. En este caso, se descargó un video de Youtube, se extrajo el audio, se transcribió a texto y se analizó el contenido del texto transcribido usando 2 diferentes modelos de IA en python."
   ]
  },
  {
   "cell_type": "markdown",
   "metadata": {},
   "source": [
    "### Referencias"
   ]
  },
  {
   "cell_type": "markdown",
   "metadata": {},
   "source": [
    "<div align=\"center\">\n",
    "\n",
    "| Versión | Fecha     | Autor                 |\n",
    "|:-------:|:---------:|:---------------------:|\n",
    "| 1.0     | 18/04/2024| [Carlos Arreola](https://github.com/CharlieArreola) |\n",
    "\n",
    "</div>\n"
   ]
  },
  {
   "cell_type": "markdown",
   "metadata": {},
   "source": []
  }
 ],
 "metadata": {
  "kernelspec": {
   "display_name": "FutureLens",
   "language": "python",
   "name": "python3"
  },
  "language_info": {
   "codemirror_mode": {
    "name": "ipython",
    "version": 3
   },
   "file_extension": ".py",
   "mimetype": "text/x-python",
   "name": "python",
   "nbconvert_exporter": "python",
   "pygments_lexer": "ipython3",
   "version": "3.8.18"
  }
 },
 "nbformat": 4,
 "nbformat_minor": 2
}
